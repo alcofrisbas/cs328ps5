{
 "cells": [
  {
   "cell_type": "code",
   "execution_count": 23,
   "metadata": {},
   "outputs": [
    {
     "name": "stdout",
     "output_type": "stream",
     "text": [
      "The autoreload extension is already loaded. To reload it, use:\n",
      "  %reload_ext autoreload\n"
     ]
    }
   ],
   "source": [
    "# Run the top two cells in this notebook first, every time you reopen your notebook.\n",
    "%load_ext autoreload\n",
    "%autoreload 2"
   ]
  },
  {
   "cell_type": "code",
   "execution_count": 24,
   "metadata": {},
   "outputs": [],
   "source": [
    "import nn_practice\n",
    "import matplotlib.pyplot as plt\n",
    "import pandas as pd"
   ]
  },
  {
   "cell_type": "markdown",
   "metadata": {},
   "source": [
    "### Neural network practice"
   ]
  },
  {
   "cell_type": "markdown",
   "metadata": {},
   "source": [
    "In this problem, you'll do some calculations for a neural network with one input unit ($x_{1}$), one hidden unit ($x_{2}$), and one output unit ($x_{3}$). This network does not include any bias nodes. Here's a picture:\n",
    "\n",
    "<img src=\"images/NeuralNetChain.png\" alt=\"Neural network architecture\" style=\"width: 500px;\"/>\n"
   ]
  },
  {
   "cell_type": "markdown",
   "metadata": {},
   "source": [
    "<div class=\"alert alert-success\">Assume that $g$ is a logistic function:\n",
    "\n",
    "$$g(n) = \\frac{1}{1+e^{-n}}$$\n",
    "\n",
    "If we initialize the connection weights to $w_{1} = 5$ and $w_{2} = -0.5$, then what are the activations for $x_{2}$ and $x_{3}$ when $x_{1} = 0$? What about when $x_{1} = 1$? Show your work.</div>"
   ]
  },
  {
   "cell_type": "markdown",
   "metadata": {},
   "source": [
    "#### When $x_1 == 0$\n",
    "$x_2 = \\frac{1}{1+e^{w_1 \\cdot x_1}} = \\frac{1}{2}$\n",
    "\n",
    "$x_3 = \\frac{1}{1+e^{w_2 \\cdot x_2}} = 0.5621765 $\n",
    "\n",
    "#### When $x_1 == 1$\n",
    "$x_2 = \\frac{1}{1+e^{w_1 \\cdot x_1}} = 0.00669$\n",
    "\n",
    "$x_3 = \\frac{1}{1+e^{w_2 \\cdot x_2}} = 0.50083 $"
   ]
  },
  {
   "cell_type": "markdown",
   "metadata": {},
   "source": [
    "<div class=\"alert alert-success\">We'd like this network to learn two $(x_{1},x_{3})$ pairs: $(0,1)$ and $(1,0)$. Recall that the squared error for a single input/output pair is just the square of the difference between the network's output and the target output. For multiple input/output pairs, the total errror is calculated as the sum of squared error: the sum of each of the individual squared errors. This is known as the <i>sum squared error</i>. Compute the sum squared error for these two pairs given the $g$ and weights shown above. Show your work.</div>"
   ]
  },
  {
   "cell_type": "markdown",
   "metadata": {},
   "source": [
    "SquaredError = $(y -g(Wx))^2$\n",
    "\n",
    "for (0,1): y = 1, $g(Wx) = 0.562$, error = $0.1917$\n",
    "\n",
    "for (1,0): y = 0, $g(Wx) = 0.50083$, error = $0.25083$\n",
    "\n",
    "$\\therefore$\n",
    "\n",
    "SummedError = $0.1917 + 0.25083 = 0.44253$"
   ]
  },
  {
   "cell_type": "markdown",
   "metadata": {},
   "source": [
    "<div class=\"alert alert-success\">In <tt>nn_practice.py</tt>, write a function <tt>calc_output</tt> that takes two parameters: (1) a value for $x_{1}$ and (2) the weights for the network, expressed as a tuple $(w_{1}, w_{2})$. This function should return the output for the network, assuming that $g$ is the logistic function. Test your function in the cell below.</div>"
   ]
  },
  {
   "cell_type": "code",
   "execution_count": 21,
   "metadata": {},
   "outputs": [
    {
     "name": "stdout",
     "output_type": "stream",
     "text": [
      "the output from w1 = 0: 0.5621765008857981\n",
      "the output from w1 = 1: 0.500836605584804\n"
     ]
    }
   ],
   "source": [
    "print(\"the output from w1 = 0:\",nn_practice.calc_output(0,(5,-0.5)))\n",
    "print(\"the output from w1 = 1:\",nn_practice.calc_output(1,(5,-0.5)))\n"
   ]
  },
  {
   "cell_type": "markdown",
   "metadata": {},
   "source": [
    "<div class=\"alert alert-success\">Now write a function <tt>sum_squared_error</tt> in <tt>nn_practice.py</tt> that takes two parameters: (1) a two-dimensional list, where each inner list has two items: the value for the input, followed by the target value for the output, and (2) the weights for the network. This function should return the sum squared error for these data. Again, assume that $g$ is the logistic function. Test your function in the cell below.</div>"
   ]
  },
  {
   "cell_type": "code",
   "execution_count": 11,
   "metadata": {},
   "outputs": [
    {
     "name": "stdout",
     "output_type": "stream",
     "text": [
      "the squared error is: 0.4425267218703121\n"
     ]
    }
   ],
   "source": [
    "print(\"the squared error is:\",nn_practice.sum_squared_error([[0,1],[1,0]], (5,-0.5)))\n"
   ]
  },
  {
   "cell_type": "markdown",
   "metadata": {},
   "source": [
    "<div class=\"alert alert-success\">In the cell below, write code to make a plot of the sum squared error in your network on the two pairs given above as a function of the weights. You'll want to consider $(w_{1},w_{2}$ pairs where each item in the pair can range from $-5$ to $5$. These will be your x/y coordinates. Then, the color of each point in the grid will be based on the value of the sum squared error for the two pairs. The <tt>contourf</tt> function in matplotlib facilitates making such a graph.\n",
    "\n",
    "<a href=\"http://matplotlib.org/api/pyplot_api.html?highlight=contour#matplotlib.pyplot.contour\">You can see some documentation here.</a> Note that you should be carefuly about the indexing in relating the values of the weights and the values of the sum-squared error - it's easy to get the axes backwards. <a href=\"http://matplotlib.org/api/pyplot_api.html?highlight=contour#matplotlib.pyplot.colorbar\">Use the <tt>colorbar</tt> function</a> to add a legend that will allow you to interpret the meaning of the colors in your plot. Note that the input to colorbar is the object returned by contourf. Make sure to label your axes and title the graph appropriately. Based on your graph, suggest a set of weights that would do better (i.e., would have a lower sum squared error) than your initial weights of $w_1= 5$ and $w_2= −0.5$.</div>"
   ]
  },
  {
   "cell_type": "code",
   "execution_count": 17,
   "metadata": {},
   "outputs": [
    {
     "data": {
      "image/png": "[encoded data removed]",
      "text/plain": [
       "<Figure size 432x288 with 2 Axes>"
      ]
     },
     "metadata": {},
     "output_type": "display_data"
    }
   ],
   "source": [
    "results = []\n",
    "for w1 in range(-5,6):\n",
    "    row = []\n",
    "    for w2 in range(-5,6):\n",
    "        row.append(nn_practice.sum_squared_error(((0,1),(1,0)), (w1,w2)))\n",
    "    results.append(row)\n",
    "\n",
    "\n",
    "a = plt.contourf(range(-5,6),range(-5,6),results)\n",
    "plt.colorbar(a)\n",
    "plt.title('SSE for different w1 and w2')\n",
    "plt.xlabel('w1')\n",
    "plt.ylabel('w2')\n",
    "plt.show()"
   ]
  },
  {
   "cell_type": "markdown",
   "metadata": {},
   "source": [
    "We suggest -5 for $w_1$ and 5 for $w_2$."
   ]
  },
  {
   "cell_type": "markdown",
   "metadata": {},
   "source": [
    "<div class=\"alert alert-success\">Weight updates can be computed using the delta rule and the generalized delta rule. One thing you'll need to know is the derivative of the logistic function, which is: $g'(n) = g(n)\\cdot(1-g(n))$. Write a function <tt>compute_w2_update</tt> in your module that takes in the following parameters: (1) the input to the network, (2) the target (desired) output, (3) the weights as a tuple $(w_{1},w_{2})$, and (4) the learning rate $\\eta$. It should return the change that should be made to $w_{2}$ given that this input/output error was just observed. Test your function in the cell below, comparing the output to one that you calculate by hand.</div>"
   ]
  },
  {
   "cell_type": "code",
   "execution_count": 41,
   "metadata": {},
   "outputs": [
    {
     "data": {
      "text/plain": [
       "0.053881642677719895"
      ]
     },
     "execution_count": 41,
     "metadata": {},
     "output_type": "execute_result"
    }
   ],
   "source": [
    "nn_practice.compute_w2_update(0, 1, (5,-0.5), 1)"
   ]
  },
  {
   "cell_type": "markdown",
   "metadata": {},
   "source": [
    "<div class=\"alert alert-success\">Now, write a function <tt>compute_w1_update</tt> in your module that takes in the following parameters: (1) the input to the network, (2) the target (desired) output, (3) the weights as a tuple $(w_{1},w_{2})$, and (4) the learning rate $\\eta$. It should return the change that should be made to $w_{1}$ given that this input/output error was just observed. Test your function in the cell below, comparing the output to one that you calculate by hand.</div>"
   ]
  },
  {
   "cell_type": "code",
   "execution_count": null,
   "metadata": {
    "collapsed": true
   },
   "outputs": [],
   "source": []
  },
  {
   "cell_type": "markdown",
   "metadata": {},
   "source": [
    "<div class=\"alert alert-success\">Use your function to compute the weight updates given that you observe (1, 0) and (0,1). Do these weight updates take you in the direction of the \"optimal\" weights you identified from your plot? Explain your results in terms of your error plot and what you know about gradient descent optimization algorithms.\n",
    "</div>"
   ]
  },
  {
   "cell_type": "markdown",
   "metadata": {},
   "source": []
  },
  {
   "cell_type": "markdown",
   "metadata": {},
   "source": [
    "### Interpreting neural network results"
   ]
  },
  {
   "cell_type": "markdown",
   "metadata": {},
   "source": [
    "I used a neural network to try to classify which parts of an image were grass versus which parts of the image were path.  (<a href=\"http://archive.ics.uci.edu/ml/datasets/Image+Segmentation\">You can learn more about the dataset here.</a>\n",
    "\n",
    "The graph below shows my sum of squared errors for various numbers of hidden units in my network. I always had 19 input units, and a single output unit, plus biases at each layer."
   ]
  },
  {
   "cell_type": "code",
   "execution_count": 19,
   "metadata": {},
   "outputs": [
    {
     "data": {
      "image/png": "[encoded data removed]",
      "text/plain": [
       "<Figure size 432x288 with 1 Axes>"
      ]
     },
     "metadata": {},
     "output_type": "display_data"
    }
   ],
   "source": [
    "import numpy as np\n",
    "import matplotlib.pyplot as plt\n",
    "%matplotlib inline\n",
    "\n",
    "data = np.loadtxt(\"data/NetworkError.txt\")\n",
    "\n",
    "plt.plot(range(2,11), data[:,1])\n",
    "plt.xlabel(\"Number of hidden units\")\n",
    "plt.ylabel(\"Sum squared error\")\n",
    "plt.title(\"Training error as a function of network complexity\")\n",
    "plt.show()"
   ]
  },
  {
   "cell_type": "markdown",
   "metadata": {},
   "source": [
    "<div class=\"alert alert-success\">Using what you know about neural networks and when they do and do not learn successfully, briefly explain why I might see the pattern observed in the graph.</div>"
   ]
  },
  {
   "cell_type": "markdown",
   "metadata": {},
   "source": []
  },
  {
   "cell_type": "markdown",
   "metadata": {},
   "source": [
    "<div class=\"alert alert-success\">In a few sentences explain what might happen if the learning rate was set too high and conceptually why this could occur.</div>"
   ]
  },
  {
   "cell_type": "markdown",
   "metadata": {},
   "source": []
  }
 ],
 "metadata": {
  "kernelspec": {
   "display_name": "Python 3",
   "language": "python",
   "name": "python3"
  },
  "language_info": {
   "codemirror_mode": {
    "name": "ipython",
    "version": 3
   },
   "file_extension": ".py",
   "mimetype": "text/x-python",
   "name": "python",
   "nbconvert_exporter": "python",
   "pygments_lexer": "ipython3",
   "version": "3.6.5"
  }
 },
 "nbformat": 4,
 "nbformat_minor": 1
}
